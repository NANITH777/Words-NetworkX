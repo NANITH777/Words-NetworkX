{
 "cells": [
  {
   "cell_type": "code",
   "execution_count": 1,
   "metadata": {},
   "outputs": [],
   "source": [
    "import urllib.request\n",
    "import gzip\n",
    "import os\n",
    "from string import ascii_lowercase as lowercase\n",
    "import matplotlib.pyplot as plt\n",
    "import networkx as nx"
   ]
  },
  {
   "cell_type": "markdown",
   "metadata": {},
   "source": [
    "Download the file if it doesn't exist"
   ]
  },
  {
   "cell_type": "code",
   "execution_count": 2,
   "metadata": {},
   "outputs": [
    {
     "name": "stdout",
     "output_type": "stream",
     "text": [
      "Downloading words_dat.txt.gz...\n",
      "Download complete.\n"
     ]
    }
   ],
   "source": [
    "if not os.path.exists(\"words_dat.txt.gz\"):\n",
    "    print(\"Downloading words_dat.txt.gz...\")\n",
    "    url = \"https://github.com/networkx/networkx/blob/main/examples/graph/words_dat.txt.gz?raw=true\"\n",
    "    urllib.request.urlretrieve(url, \"words_dat.txt.gz\")\n",
    "    print(\"Download complete.\")"
   ]
  },
  {
   "cell_type": "markdown",
   "metadata": {},
   "source": [
    "Generating the Word Graph"
   ]
  },
  {
   "cell_type": "code",
   "execution_count": 3,
   "metadata": {},
   "outputs": [],
   "source": [
    "def generate_graph(words):\n",
    "    G = nx.Graph(name=\"words\")\n",
    "    lookup = {c: lowercase.index(c) for c in lowercase}\n",
    "\n",
    "    def edit_distance_one(word):\n",
    "        for i in range(len(word)):\n",
    "            left, c, right = word[0:i], word[i], word[i + 1 :]\n",
    "            j = lookup[c]  # lowercase.index(c)\n",
    "            for cc in lowercase[j + 1 :]:\n",
    "                yield left + cc + right\n",
    "\n",
    "    candgen = (\n",
    "        (word, cand)\n",
    "        for word in sorted(words)\n",
    "        for cand in edit_distance_one(word)\n",
    "        if cand in words\n",
    "    )\n",
    "    G.add_nodes_from(words)\n",
    "    for word, cand in candgen:\n",
    "        G.add_edge(word, cand)\n",
    "    return G"
   ]
  },
  {
   "cell_type": "code",
   "execution_count": 4,
   "metadata": {},
   "outputs": [],
   "source": [
    "def words_graph():\n",
    "    fh = gzip.open(\"words_dat.txt.gz\", \"r\")\n",
    "    words = set()\n",
    "    for line in fh.readlines():\n",
    "        line = line.decode()\n",
    "        if line.startswith(\"*\"):\n",
    "            continue\n",
    "        w = str(line[0:5])\n",
    "        words.add(w)\n",
    "    return generate_graph(words)"
   ]
  },
  {
   "cell_type": "code",
   "execution_count": 5,
   "metadata": {},
   "outputs": [
    {
     "name": "stdout",
     "output_type": "stream",
     "text": [
      "Graph named 'words' with 5757 nodes and 14135 edges\n",
      "853 connected components\n"
     ]
    }
   ],
   "source": [
    "G = words_graph()\n",
    "print(G)\n",
    "print(f\"{nx.number_connected_components(G)} connected components\")"
   ]
  }
 ],
 "metadata": {
  "kernelspec": {
   "display_name": "base",
   "language": "python",
   "name": "python3"
  },
  "language_info": {
   "codemirror_mode": {
    "name": "ipython",
    "version": 3
   },
   "file_extension": ".py",
   "mimetype": "text/x-python",
   "name": "python",
   "nbconvert_exporter": "python",
   "pygments_lexer": "ipython3",
   "version": "3.11.5"
  }
 },
 "nbformat": 4,
 "nbformat_minor": 2
}
