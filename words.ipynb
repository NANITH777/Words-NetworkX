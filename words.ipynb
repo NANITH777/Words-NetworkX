{
 "cells": [
  {
   "cell_type": "code",
   "execution_count": 1,
   "metadata": {},
   "outputs": [],
   "source": [
    "import urllib.request\n",
    "import gzip\n",
    "import os\n",
    "from string import ascii_lowercase as lowercase\n",
    "import matplotlib.pyplot as plt\n",
    "import networkx as nx"
   ]
  },
  {
   "cell_type": "markdown",
   "metadata": {},
   "source": [
    "Download the file if it doesn't exist"
   ]
  },
  {
   "cell_type": "code",
   "execution_count": 2,
   "metadata": {},
   "outputs": [
    {
     "name": "stdout",
     "output_type": "stream",
     "text": [
      "Downloading words_dat.txt.gz...\n",
      "Download complete.\n"
     ]
    }
   ],
   "source": [
    "if not os.path.exists(\"words_dat.txt.gz\"):\n",
    "    print(\"Downloading words_dat.txt.gz...\")\n",
    "    url = \"https://github.com/networkx/networkx/blob/main/examples/graph/words_dat.txt.gz?raw=true\"\n",
    "    urllib.request.urlretrieve(url, \"words_dat.txt.gz\")\n",
    "    print(\"Download complete.\")"
   ]
  }
 ],
 "metadata": {
  "kernelspec": {
   "display_name": "base",
   "language": "python",
   "name": "python3"
  },
  "language_info": {
   "codemirror_mode": {
    "name": "ipython",
    "version": 3
   },
   "file_extension": ".py",
   "mimetype": "text/x-python",
   "name": "python",
   "nbconvert_exporter": "python",
   "pygments_lexer": "ipython3",
   "version": "3.11.5"
  }
 },
 "nbformat": 4,
 "nbformat_minor": 2
}
